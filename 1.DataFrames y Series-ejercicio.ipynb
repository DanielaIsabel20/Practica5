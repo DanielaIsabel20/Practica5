{
 "cells": [
  {
   "cell_type": "markdown",
   "metadata": {},
   "source": [
    "# Importar Pandas"
   ]
  },
  {
   "cell_type": "code",
   "execution_count": 1,
   "metadata": {},
   "outputs": [],
   "source": [
    "#importa pandas\n",
    "import pandas as pd"
   ]
  },
  {
   "cell_type": "markdown",
   "metadata": {},
   "source": [
    "# Crear una Serie"
   ]
  },
  {
   "cell_type": "markdown",
   "metadata": {},
   "source": [
    "Explore series en python en el siguiente [link](https://pandas.pydata.org/pandas-docs/stable/user_guide/10min.html) en las primeras lineas del documento"
   ]
  },
  {
   "cell_type": "code",
   "execution_count": 56,
   "metadata": {
    "tags": []
   },
   "outputs": [
    {
     "name": "stdout",
     "output_type": "stream",
     "text": [
      "0    10\n",
      "1    20\n",
      "2    10\n",
      "dtype: int64\n"
     ]
    }
   ],
   "source": [
    "# Crea una Serie de los numeros 10, 20 and 10.\n",
    "\n",
    "serie_numeros=pd.Series([10,20,10])\n",
    "print(serie_numeros)"
   ]
  },
  {
   "cell_type": "code",
   "execution_count": 70,
   "metadata": {
    "tags": []
   },
   "outputs": [
    {
     "name": "stdout",
     "output_type": "stream",
     "text": [
      "0     rojo\n",
      "1    verde\n",
      "2     azul\n",
      "dtype: object\n"
     ]
    }
   ],
   "source": [
    "# Crea una Serie con tres objetos: 'rojo', 'verde', 'azul'\n",
    "serie_colores=pd.Series(['rojo','verde','azul'])\n",
    "print(serie_colores)"
   ]
  },
  {
   "cell_type": "markdown",
   "metadata": {},
   "source": [
    "# Crear un Dataframe"
   ]
  },
  {
   "cell_type": "code",
   "execution_count": 71,
   "metadata": {
    "tags": []
   },
   "outputs": [],
   "source": [
    "# Crea un dataframe vacío llamado 'df'\n",
    "df = pd.DataFrame()"
   ]
  },
  {
   "cell_type": "code",
   "execution_count": 96,
   "metadata": {
    "tags": []
   },
   "outputs": [],
   "source": [
    "# Crea una nueva columna en el dataframe, y asignale la primera serie que has creado\n",
    "df['Numeros']=serie_numeros"
   ]
  },
  {
   "cell_type": "code",
   "execution_count": 97,
   "metadata": {
    "tags": []
   },
   "outputs": [],
   "source": [
    "# Crea otra columna en el dataframe y asignale la segunda Serie que has creado\n",
    "df['Colores']=serie_colores"
   ]
  },
  {
   "cell_type": "markdown",
   "metadata": {},
   "source": [
    "# Leer un dataframe"
   ]
  },
  {
   "cell_type": "code",
   "execution_count": 98,
   "metadata": {
    "tags": []
   },
   "outputs": [],
   "source": [
    "# Lee el archivo llamado 'avengers.csv\" localizado en la carpeta \"data\" y crea un DataFrame, llamado 'avengers'. \n",
    "# El archivo está localizado en \"data/avengers.csv\"\n",
    "\n",
    "ruta_archivo='src/avengers.csv'\n",
    "datos_avengers=pd.read_csv(ruta_archivo)"
   ]
  },
  {
   "cell_type": "markdown",
   "metadata": {},
   "source": [
    "# Inspeccionar un dataframe"
   ]
  },
  {
   "cell_type": "code",
   "execution_count": 99,
   "metadata": {
    "tags": []
   },
   "outputs": [
    {
     "name": "stdout",
     "output_type": "stream",
     "text": [
      "                                                 URL  \\\n",
      "0      http://marvel.wikia.com/Henry_Pym_(Earth-616)   \n",
      "1  http://marvel.wikia.com/Janet_van_Dyne_(Earth-...   \n",
      "2  http://marvel.wikia.com/Anthony_Stark_(Earth-616)   \n",
      "3  http://marvel.wikia.com/Robert_Bruce_Banner_(E...   \n",
      "4   http://marvel.wikia.com/Thor_Odinson_(Earth-616)   \n",
      "\n",
      "                        nombre  n_apariciones actual  genero  fecha_inicio  \\\n",
      "0    Henry Jonathan \"Hank\" Pym           1269    YES    MALE          1963   \n",
      "1               Janet van Dyne           1165    YES  FEMALE          1963   \n",
      "2  Anthony Edward \"Tony\" Stark           3068    YES    MALE          1963   \n",
      "3          Robert Bruce Banner           2089    YES    MALE          1963   \n",
      "4                 Thor Odinson           2402    YES    MALE          1963   \n",
      "\n",
      "                                               Notes  \n",
      "0  Merged with Ultron in Rage of Ultron Vol. 1. A...  \n",
      "1  Dies in Secret Invasion V1:I8. Actually was se...  \n",
      "2  Death: \"Later while under the influence of Imm...  \n",
      "3  Dies in Ghosts of the Future arc. However \"he ...  \n",
      "4  Dies in Fear Itself brought back because that'...  \n"
     ]
    }
   ],
   "source": [
    "# Muestra las primeras 5 filas del DataFrame.\n",
    "\n",
    "mostrar_5primeras=datos_avengers.head()\n",
    "print(mostrar_5primeras)"
   ]
  },
  {
   "cell_type": "code",
   "execution_count": 100,
   "metadata": {
    "tags": []
   },
   "outputs": [
    {
     "name": "stdout",
     "output_type": "stream",
     "text": [
      "                                                 URL  \\\n",
      "0      http://marvel.wikia.com/Henry_Pym_(Earth-616)   \n",
      "1  http://marvel.wikia.com/Janet_van_Dyne_(Earth-...   \n",
      "2  http://marvel.wikia.com/Anthony_Stark_(Earth-616)   \n",
      "3  http://marvel.wikia.com/Robert_Bruce_Banner_(E...   \n",
      "4   http://marvel.wikia.com/Thor_Odinson_(Earth-616)   \n",
      "5  http://marvel.wikia.com/Richard_Jones_(Earth-616)   \n",
      "6  http://marvel.wikia.com/Steven_Rogers_(Earth-616)   \n",
      "7   http://marvel.wikia.com/Clint_Barton_(Earth-616)   \n",
      "8  http://marvel.wikia.com/Pietro_Maximoff_(Earth...   \n",
      "9  http://marvel.wikia.com/Wanda_Maximoff_(Earth-...   \n",
      "\n",
      "                        nombre  n_apariciones actual  genero  fecha_inicio  \\\n",
      "0    Henry Jonathan \"Hank\" Pym           1269    YES    MALE          1963   \n",
      "1               Janet van Dyne           1165    YES  FEMALE          1963   \n",
      "2  Anthony Edward \"Tony\" Stark           3068    YES    MALE          1963   \n",
      "3          Robert Bruce Banner           2089    YES    MALE          1963   \n",
      "4                 Thor Odinson           2402    YES    MALE          1963   \n",
      "5       Richard Milhouse Jones            612    YES    MALE          1963   \n",
      "6                Steven Rogers           3458    YES    MALE          1964   \n",
      "7       Clinton Francis Barton           1456    YES    MALE          1965   \n",
      "8              Pietro Maximoff            769    YES    MALE          1965   \n",
      "9               Wanda Maximoff           1214    YES  FEMALE          1965   \n",
      "\n",
      "                                               Notes  \n",
      "0  Merged with Ultron in Rage of Ultron Vol. 1. A...  \n",
      "1  Dies in Secret Invasion V1:I8. Actually was se...  \n",
      "2  Death: \"Later while under the influence of Imm...  \n",
      "3  Dies in Ghosts of the Future arc. However \"he ...  \n",
      "4  Dies in Fear Itself brought back because that'...  \n",
      "5                                                NaN  \n",
      "6    Dies at the end of Civil War. Later comes back.  \n",
      "7  Dies in exploding Kree ship in Averngers Vol. ...  \n",
      "8  Dies in House of M Vol 1 Issue 7. Later comes ...  \n",
      "9  Dies in Uncanny_Avengers_Vol_1_14. Later comes...  \n"
     ]
    }
   ],
   "source": [
    "# Muestra las primeras 10 filas del DataFrame. \n",
    "mostrar_10primeras=datos_avengers.head(10)\n",
    "print(mostrar_10primeras)"
   ]
  },
  {
   "cell_type": "code",
   "execution_count": 101,
   "metadata": {
    "tags": []
   },
   "outputs": [
    {
     "name": "stdout",
     "output_type": "stream",
     "text": [
      "                                                   URL          nombre  \\\n",
      "168   http://marvel.wikia.com/Eric_Brooks_(Earth-616)#     Eric Brooks   \n",
      "169  http://marvel.wikia.com/Adam_Brashear_(Earth-6...   Adam Brashear   \n",
      "170  http://marvel.wikia.com/Victor_Alvarez_(Earth-...  Victor Alvarez   \n",
      "171     http://marvel.wikia.com/Ava_Ayala_(Earth-616)#       Ava Ayala   \n",
      "172         http://marvel.wikia.com/Kaluu_(Earth-616)#           Kaluu   \n",
      "\n",
      "     n_apariciones actual  genero  fecha_inicio Notes  \n",
      "168            198    YES    MALE          2013   NaN  \n",
      "169             29    YES    MALE          2014   NaN  \n",
      "170             45    YES    MALE          2014   NaN  \n",
      "171             49    YES  FEMALE          2014   NaN  \n",
      "172             35    YES    MALE          2015   NaN  \n"
     ]
    }
   ],
   "source": [
    "# Muestra las últimas 5 filas del DataFrame.\n",
    "mostrar_5ultimas=datos_avengers.tail()\n",
    "print(mostrar_5ultimas)"
   ]
  },
  {
   "cell_type": "markdown",
   "metadata": {},
   "source": [
    "# Tamaño del DataFrame"
   ]
  },
  {
   "cell_type": "code",
   "execution_count": 102,
   "metadata": {
    "tags": []
   },
   "outputs": [
    {
     "name": "stdout",
     "output_type": "stream",
     "text": [
      "(173, 7)\n"
     ]
    }
   ],
   "source": [
    "# Muestra el tamaño del DataFrame\n",
    "tamaño=datos_avengers.shape\n",
    "print(tamaño)"
   ]
  },
  {
   "cell_type": "markdown",
   "metadata": {},
   "source": [
    "# Data types en un DataFrame"
   ]
  },
  {
   "cell_type": "code",
   "execution_count": 103,
   "metadata": {
    "tags": []
   },
   "outputs": [
    {
     "name": "stdout",
     "output_type": "stream",
     "text": [
      "URL              object\n",
      "nombre           object\n",
      "n_apariciones     int64\n",
      "actual           object\n",
      "genero           object\n",
      "fecha_inicio      int64\n",
      "Notes            object\n",
      "dtype: object\n"
     ]
    }
   ],
   "source": [
    "# Muestra los data types del dataframe\n",
    "tipos_datos=datos_avengers.dtypes\n",
    "print(tipos_datos)"
   ]
  },
  {
   "cell_type": "markdown",
   "metadata": {},
   "source": [
    "# Editar el indice (index)"
   ]
  },
  {
   "cell_type": "code",
   "execution_count": 104,
   "metadata": {
    "tags": []
   },
   "outputs": [
    {
     "name": "stdout",
     "output_type": "stream",
     "text": [
      "                                                            URL  \\\n",
      "fecha_inicio                                                      \n",
      "1963              http://marvel.wikia.com/Henry_Pym_(Earth-616)   \n",
      "1963          http://marvel.wikia.com/Janet_van_Dyne_(Earth-...   \n",
      "1963          http://marvel.wikia.com/Anthony_Stark_(Earth-616)   \n",
      "1963          http://marvel.wikia.com/Robert_Bruce_Banner_(E...   \n",
      "1963           http://marvel.wikia.com/Thor_Odinson_(Earth-616)   \n",
      "...                                                         ...   \n",
      "2013           http://marvel.wikia.com/Eric_Brooks_(Earth-616)#   \n",
      "2014          http://marvel.wikia.com/Adam_Brashear_(Earth-6...   \n",
      "2014          http://marvel.wikia.com/Victor_Alvarez_(Earth-...   \n",
      "2014             http://marvel.wikia.com/Ava_Ayala_(Earth-616)#   \n",
      "2015                 http://marvel.wikia.com/Kaluu_(Earth-616)#   \n",
      "\n",
      "                                   nombre  n_apariciones actual  genero  \\\n",
      "fecha_inicio                                                              \n",
      "1963            Henry Jonathan \"Hank\" Pym           1269    YES    MALE   \n",
      "1963                       Janet van Dyne           1165    YES  FEMALE   \n",
      "1963          Anthony Edward \"Tony\" Stark           3068    YES    MALE   \n",
      "1963                  Robert Bruce Banner           2089    YES    MALE   \n",
      "1963                         Thor Odinson           2402    YES    MALE   \n",
      "...                                   ...            ...    ...     ...   \n",
      "2013                          Eric Brooks            198    YES    MALE   \n",
      "2014                        Adam Brashear             29    YES    MALE   \n",
      "2014                       Victor Alvarez             45    YES    MALE   \n",
      "2014                            Ava Ayala             49    YES  FEMALE   \n",
      "2015                                Kaluu             35    YES    MALE   \n",
      "\n",
      "                                                          Notes  \n",
      "fecha_inicio                                                     \n",
      "1963          Merged with Ultron in Rage of Ultron Vol. 1. A...  \n",
      "1963          Dies in Secret Invasion V1:I8. Actually was se...  \n",
      "1963          Death: \"Later while under the influence of Imm...  \n",
      "1963          Dies in Ghosts of the Future arc. However \"he ...  \n",
      "1963          Dies in Fear Itself brought back because that'...  \n",
      "...                                                         ...  \n",
      "2013                                                        NaN  \n",
      "2014                                                        NaN  \n",
      "2014                                                        NaN  \n",
      "2014                                                        NaN  \n",
      "2015                                                        NaN  \n",
      "\n",
      "[173 rows x 6 columns]\n"
     ]
    }
   ],
   "source": [
    "# Cambia el indice a la columna \"fecha_inicio\".\n",
    "datos_avengers.set_index('fecha_inicio' , inplace=True)\n",
    "print(datos_avengers)"
   ]
  },
  {
   "cell_type": "markdown",
   "metadata": {},
   "source": [
    "# Ordenar el indice"
   ]
  },
  {
   "cell_type": "code",
   "execution_count": 105,
   "metadata": {
    "tags": []
   },
   "outputs": [
    {
     "name": "stdout",
     "output_type": "stream",
     "text": [
      "                                                            URL  \\\n",
      "fecha_inicio                                                      \n",
      "2015                 http://marvel.wikia.com/Kaluu_(Earth-616)#   \n",
      "2015          http://marvel.wikia.com/Sam_Alexander_(Earth-6...   \n",
      "2014             http://marvel.wikia.com/Ava_Ayala_(Earth-616)#   \n",
      "2014          http://marvel.wikia.com/Victor_Alvarez_(Earth-...   \n",
      "2014          http://marvel.wikia.com/Adam_Brashear_(Earth-6...   \n",
      "...                                                         ...   \n",
      "1900          http://marvel.wikia.com/Emery_Schaub_(Earth-616)#   \n",
      "1900          http://marvel.wikia.com/James_Santini_(Earth-6...   \n",
      "1900          http://marvel.wikia.com/Elvin_Haliday_(Earth-6...   \n",
      "1900          http://marvel.wikia.com/William_Baker_(Earth-6...   \n",
      "1900           http://marvel.wikia.com/Julie_Power_(Earth-616)#   \n",
      "\n",
      "                      nombre  n_apariciones actual  genero  \\\n",
      "fecha_inicio                                                 \n",
      "2015                   Kaluu             35    YES    MALE   \n",
      "2015           Sam Alexander             78    YES    MALE   \n",
      "2014               Ava Ayala             49    YES  FEMALE   \n",
      "2014          Victor Alvarez             45    YES    MALE   \n",
      "2014           Adam Brashear             29    YES    MALE   \n",
      "...                      ...            ...    ...     ...   \n",
      "1900            Emery Schaub             26    YES    MALE   \n",
      "1900           James Santini             40    YES    MALE   \n",
      "1900           Elvin Haliday            158     NO    MALE   \n",
      "1900           William Baker            355     NO    MALE   \n",
      "1900             Julie Power            153    YES  FEMALE   \n",
      "\n",
      "                                                          Notes  \n",
      "fecha_inicio                                                     \n",
      "2015                                                        NaN  \n",
      "2015                                                        NaN  \n",
      "2014                                                        NaN  \n",
      "2014                                                        NaN  \n",
      "2014                                                        NaN  \n",
      "...                                                         ...  \n",
      "1900                                                        NaN  \n",
      "1900                                                        NaN  \n",
      "1900                                                        NaN  \n",
      "1900          Died in Identity_Disc_Vol_1_1. Later was revea...  \n",
      "1900                                                        NaN  \n",
      "\n",
      "[173 rows x 6 columns]\n"
     ]
    }
   ],
   "source": [
    "# Ordena el índice de forma descendiente\n",
    "datos_avengers_sorted=datos_avengers.sort_index(ascending=False)\n",
    "print(datos_avengers_sorted)"
   ]
  },
  {
   "cell_type": "markdown",
   "metadata": {},
   "source": [
    "# Resetear el indice"
   ]
  },
  {
   "cell_type": "code",
   "execution_count": 106,
   "metadata": {
    "tags": []
   },
   "outputs": [
    {
     "name": "stdout",
     "output_type": "stream",
     "text": [
      "     fecha_inicio                                                URL  \\\n",
      "0            1963      http://marvel.wikia.com/Henry_Pym_(Earth-616)   \n",
      "1            1963  http://marvel.wikia.com/Janet_van_Dyne_(Earth-...   \n",
      "2            1963  http://marvel.wikia.com/Anthony_Stark_(Earth-616)   \n",
      "3            1963  http://marvel.wikia.com/Robert_Bruce_Banner_(E...   \n",
      "4            1963   http://marvel.wikia.com/Thor_Odinson_(Earth-616)   \n",
      "..            ...                                                ...   \n",
      "168          2013   http://marvel.wikia.com/Eric_Brooks_(Earth-616)#   \n",
      "169          2014  http://marvel.wikia.com/Adam_Brashear_(Earth-6...   \n",
      "170          2014  http://marvel.wikia.com/Victor_Alvarez_(Earth-...   \n",
      "171          2014     http://marvel.wikia.com/Ava_Ayala_(Earth-616)#   \n",
      "172          2015         http://marvel.wikia.com/Kaluu_(Earth-616)#   \n",
      "\n",
      "                          nombre  n_apariciones actual  genero  \\\n",
      "0      Henry Jonathan \"Hank\" Pym           1269    YES    MALE   \n",
      "1                 Janet van Dyne           1165    YES  FEMALE   \n",
      "2    Anthony Edward \"Tony\" Stark           3068    YES    MALE   \n",
      "3            Robert Bruce Banner           2089    YES    MALE   \n",
      "4                   Thor Odinson           2402    YES    MALE   \n",
      "..                           ...            ...    ...     ...   \n",
      "168                  Eric Brooks            198    YES    MALE   \n",
      "169                Adam Brashear             29    YES    MALE   \n",
      "170               Victor Alvarez             45    YES    MALE   \n",
      "171                    Ava Ayala             49    YES  FEMALE   \n",
      "172                        Kaluu             35    YES    MALE   \n",
      "\n",
      "                                                 Notes  \n",
      "0    Merged with Ultron in Rage of Ultron Vol. 1. A...  \n",
      "1    Dies in Secret Invasion V1:I8. Actually was se...  \n",
      "2    Death: \"Later while under the influence of Imm...  \n",
      "3    Dies in Ghosts of the Future arc. However \"he ...  \n",
      "4    Dies in Fear Itself brought back because that'...  \n",
      "..                                                 ...  \n",
      "168                                                NaN  \n",
      "169                                                NaN  \n",
      "170                                                NaN  \n",
      "171                                                NaN  \n",
      "172                                                NaN  \n",
      "\n",
      "[173 rows x 7 columns]\n"
     ]
    }
   ],
   "source": [
    "# Resetea el índice\n",
    "datos_avengers_reset=datos_avengers.reset_index()\n",
    "print(datos_avengers_reset)\n"
   ]
  }
 ],
 "metadata": {
  "kernelspec": {
   "display_name": "Python 3 (ipykernel)",
   "language": "python",
   "name": "python3"
  },
  "language_info": {
   "codemirror_mode": {
    "name": "ipython",
    "version": 3
   },
   "file_extension": ".py",
   "mimetype": "text/x-python",
   "name": "python",
   "nbconvert_exporter": "python",
   "pygments_lexer": "ipython3",
   "version": "3.11.3"
  }
 },
 "nbformat": 4,
 "nbformat_minor": 4
}
